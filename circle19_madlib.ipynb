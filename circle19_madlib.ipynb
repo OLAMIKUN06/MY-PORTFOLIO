{
 "cells": [
  {
   "cell_type": "code",
   "execution_count": 45,
   "id": "5bd5d67b-923c-4369-9a1d-69f90e4e570d",
   "metadata": {},
   "outputs": [],
   "source": [
    "##Create a Function called Madlib\n",
    "def madlib():\n",
    "    #create your variables with input functions\n",
    "    name = input('input a name (capitalise te first letter): ')\n",
    "    adjective = input('input an adjective: ')\n",
    "    adjective1 = input('input an adjective: ')\n",
    "    verb = input('input a verb in it\\'s past tense form: ')\n",
    "    greeting = input('input a greeting: ')\n",
    "    adjective2 = input('input an adjective: ')\n",
    "    verb1 = input('input a verb in it\\'s past tense form: ')\n",
    "    number = input('input a number from two to ten: ')\n",
    "    number = int(number) ## int() is used to make the variable numbers' output an integer\n",
    "    adjective3 = input('input an adjective: ')\n",
    "    adjective4 = input('input an adjective: ')\n",
    "    ## print your Madlib Story line using f string to call the variables above.\n",
    "    print(f'\\nOnce upon a time there was a/an {adjective} person called {name}. One day {name} went to school to meet some friends.'\n",
    "    f'\\nIt was a/an {adjective1} day, and everyone was excited. However, when they reached the school, they realised that the entrance was {verb}.'\n",
    "    f'\\nDetermined not to let this ruin their plans, {name} and friends decided to head to Altschool Africa Instead.'\n",
    "    f\"\\nWhen they arrived, they were greeted by a/an {adjective2} '{greeting}'!!! from Mr. Pablo.\"\n",
    "    f'\\nEveryone laughed and had a great time. By the end of the day, they had played {number} different games and made unforgettable memories.')\n",
    "    if number <= 3:\n",
    "        print(f'\\nIt was fun but {name} and friends still had a lot of energy so they decided to branc the local arcade on their way home to unwind after a full day of learning.')\n",
    "    elif number <= 7:\n",
    "        print(f'\\nThe games had tired {name} and friends out and made them voraciously hungry, so on their way home they decided to branch Chicken Republic to reward themselves with Chief Burgers for a day well spent and a job well done.')\n",
    "    elif number <=10:\n",
    "        print(f'\\n{name} and friends were so tired that they passed by their usual haunts not even noticing, the only things on their minds their warm beds and a long nights rest, although tired they felt fulfilled because it was a day well spent.')\n",
    "    print(f'\\nAnd so, {name} and friends proved that even when things do not go as planned, you can still have a/an {adjective3} time with a little creativity and a/an {adjective4} attitude.')\n",
    "    print('\\nHope you had fun playing our Madlibs Game, you can try again with a different number this time around for a new response!!!')\n",
    "    print('\\nThis Madlibs was brought to you by Circle 19: ')\n",
    "    names = ['Salihu Muhammed', 'Andrew Macharia', 'Adedamola Samuel', 'Anyah Minette Emboli', 'Ayodeji Daramiola', 'Collins Victor', 'Disu Taiye', 'Disu Kehinde', 'Indongesit Umoh', 'Ilesanmi Temitope Emmanuel', 'Joy Tule', 'Oladimeji Adaramoye', 'Sandy Daniel', 'Zion Ojuri']\n",
    "    for name in names:\n",
    "        print(name)"
   ]
  },
  {
   "cell_type": "code",
   "execution_count": null,
   "id": "f60c4b2f-d380-4b6c-9404-41309ac055a8",
   "metadata": {},
   "outputs": [
    {
     "name": "stdout",
     "output_type": "stream",
     "text": [
      "Welcome to Circle 19's MadLib Game\n"
     ]
    }
   ],
   "source": [
    "print(\"Welcome to Circle 19's MadLib Game\")\n",
    "playing = input('\\nWill you be playing the Game?: ')\n",
    "if playing == 'yes':\n",
    "    madlib()\n",
    "else:\n",
    "    print('\\nThats too bad, Thank you for your time.')\n",
    "    print('\\nThis Madlibs was brought to you by Circle 19: ')\n",
    "    names = ['Salihu Muhammed', 'Andrew Macharia', 'Adedamola Samuel', 'Anyah Minette Emboli', 'Ayodeji Daramiola', 'Collins Victor', 'Disu Taiye', 'Disu Kehinde', 'Indongesit Umoh', 'Ilesanmi Temitope Emmanuel', 'Joy Tule', 'Oladimeji Adaramoye', 'Sandy Daniel', 'Zion Ojuri']\n",
    "    for name in names:\n",
    "        print(name)"
   ]
  },
  {
   "cell_type": "code",
   "execution_count": null,
   "id": "08fae915-7dc9-45a6-8659-2b7318247b63",
   "metadata": {},
   "outputs": [],
   "source": []
  }
 ],
 "metadata": {
  "kernelspec": {
   "display_name": "Python 3 (ipykernel)",
   "language": "python",
   "name": "python3"
  },
  "language_info": {
   "codemirror_mode": {
    "name": "ipython",
    "version": 3
   },
   "file_extension": ".py",
   "mimetype": "text/x-python",
   "name": "python",
   "nbconvert_exporter": "python",
   "pygments_lexer": "ipython3",
   "version": "3.11.5"
  }
 },
 "nbformat": 4,
 "nbformat_minor": 5
}
