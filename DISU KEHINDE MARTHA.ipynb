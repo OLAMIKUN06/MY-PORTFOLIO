{
 "cells": [
  {
   "cell_type": "markdown",
   "id": "9529d665",
   "metadata": {},
   "source": [
    "# EXAM PROJECT"
   ]
  },
  {
   "cell_type": "code",
   "execution_count": 14,
   "id": "1fbe6c68",
   "metadata": {},
   "outputs": [],
   "source": [
    "# We have been given a data set which is in a csv (comma-separatedvalues) file.\n",
    "# First and foremost we have to read the dataset in a pandas dataframe and to do this we have steps which will be listed below.\n",
    "# A dataframe is a 2 Dimensional table.\n",
    "\n",
    "# To be able to read our dataset into pandas we have to;\n",
    "# A. upload the dataset into our jupyter notebook folder,\n",
    "# so it can be accessesible by the computer without throwing an error of file not found\n",
    "# B. import pandas under any alias mine i choose pd, yours you can choose pnd, e.t.c.\n",
    "# Pandas is a software library written for the Python programming language for data manipulation and analysis.\n",
    "\n",
    "import pandas as pd"
   ]
  },
  {
   "cell_type": "code",
   "execution_count": 15,
   "id": "ca9f91c7",
   "metadata": {},
   "outputs": [],
   "source": [
    "def read_dataset(file_path):\n",
    "\n",
    "    \"\"\"\n",
    "    This function reads a dataset from a file into a pandas DataFrame and handles errors gracefully.\n",
    "\n",
    "    Parameters:\n",
    "    file_path (str): The path to the dataset file.\n",
    "\n",
    "    Returns:\n",
    "    pd.DataFrame or None: Returns the DataFrame if successful, otherwise None.\n",
    "    \"\"\"\n",
    "    try:\n",
    "        # Try reading the file\n",
    "        data_set = pd.read_csv(file_path)\n",
    "        print(\"File loaded successfully.\")\n",
    "        return data_set\n",
    "    except FileNotFoundError:\n",
    "        # Handle the case where the file is not found\n",
    "        print(f\"Error: The file at path '{file_path}' was not found.\")\n",
    "    except pd.errors.EmptyDataError:\n",
    "        # Handle the case where the file is empty\n",
    "        print(f\"Error: The file at path '{file_path}' is empty.\")\n",
    "    except pd.errors.ParserError:\n",
    "        # Handle the case where the file contents are not parseable\n",
    "        print(f\"Error: The file at path '{file_path}' could not be parsed. Please check if it's a valid CSV.\")\n",
    "    except Exception as e:\n",
    "        # Catch all other exceptions and print a generic message\n",
    "        print(f\"An unexpected error occurred: {str(e)}\")\n",
    "    \n",
    "    # Return None if an error occurred\n",
    "    return None"
   ]
  },
  {
   "cell_type": "code",
   "execution_count": 16,
   "id": "a08bd6af",
   "metadata": {},
   "outputs": [
    {
     "name": "stdout",
     "output_type": "stream",
     "text": [
      "Error: The file at path 'dfa.csv' was not found.\n"
     ]
    }
   ],
   "source": [
    "read_dataset('dfa.csv')"
   ]
  },
  {
   "cell_type": "code",
   "execution_count": 18,
   "id": "c76b395d",
   "metadata": {},
   "outputs": [
    {
     "name": "stdout",
     "output_type": "stream",
     "text": [
      "Error: The file at path 'empty_dataset.csv' is empty.\n"
     ]
    }
   ],
   "source": [
    "read_dataset('empty_dataset.csv')"
   ]
  },
  {
   "cell_type": "code",
   "execution_count": 19,
   "id": "dc2a73ef",
   "metadata": {},
   "outputs": [
    {
     "name": "stdout",
     "output_type": "stream",
     "text": [
      "Error: The file at path 'dataset_31_credit-g.arff' could not be parsed. Please check if it's a valid CSV.\n"
     ]
    }
   ],
   "source": [
    "read_dataset('dataset_31_credit-g.arff')"
   ]
  },
  {
   "cell_type": "code",
   "execution_count": 20,
   "id": "b9d24ced",
   "metadata": {},
   "outputs": [
    {
     "name": "stdout",
     "output_type": "stream",
     "text": [
      "Error: The file at path 'titanic.c' was not found.\n"
     ]
    }
   ],
   "source": [
    "read_dataset('titanic.c')"
   ]
  },
  {
   "cell_type": "code",
   "execution_count": 21,
   "id": "c2321a6d",
   "metadata": {},
   "outputs": [
    {
     "name": "stdout",
     "output_type": "stream",
     "text": [
      "File loaded successfully.\n"
     ]
    }
   ],
   "source": [
    "# Our file has been given a variable name and read as a csv file by pandas into a dataframe\n",
    "\n",
    "data_set = read_dataset('titanic.csv')   \n",
    "# Example: After uploading, it doesn't throw an error. Thus, data set was successfully read in a pandas dataframe"
   ]
  },
  {
   "cell_type": "code",
   "execution_count": 22,
   "id": "2e119ca5",
   "metadata": {},
   "outputs": [
    {
     "data": {
      "text/html": [
       "<div>\n",
       "<style scoped>\n",
       "    .dataframe tbody tr th:only-of-type {\n",
       "        vertical-align: middle;\n",
       "    }\n",
       "\n",
       "    .dataframe tbody tr th {\n",
       "        vertical-align: top;\n",
       "    }\n",
       "\n",
       "    .dataframe thead th {\n",
       "        text-align: right;\n",
       "    }\n",
       "</style>\n",
       "<table border=\"1\" class=\"dataframe\">\n",
       "  <thead>\n",
       "    <tr style=\"text-align: right;\">\n",
       "      <th></th>\n",
       "      <th>PassengerId</th>\n",
       "      <th>Survived</th>\n",
       "      <th>Pclass</th>\n",
       "      <th>Name</th>\n",
       "      <th>Sex</th>\n",
       "      <th>Age</th>\n",
       "      <th>SibSp</th>\n",
       "      <th>Parch</th>\n",
       "      <th>Ticket</th>\n",
       "      <th>Fare</th>\n",
       "      <th>Cabin</th>\n",
       "      <th>Embarked</th>\n",
       "    </tr>\n",
       "  </thead>\n",
       "  <tbody>\n",
       "    <tr>\n",
       "      <th>0</th>\n",
       "      <td>1</td>\n",
       "      <td>0</td>\n",
       "      <td>3</td>\n",
       "      <td>Braund, Mr. Owen Harris</td>\n",
       "      <td>male</td>\n",
       "      <td>22.0</td>\n",
       "      <td>1</td>\n",
       "      <td>0</td>\n",
       "      <td>A/5 21171</td>\n",
       "      <td>7.2500</td>\n",
       "      <td>NaN</td>\n",
       "      <td>S</td>\n",
       "    </tr>\n",
       "    <tr>\n",
       "      <th>1</th>\n",
       "      <td>2</td>\n",
       "      <td>1</td>\n",
       "      <td>1</td>\n",
       "      <td>Cumings, Mrs. John Bradley (Florence Briggs Th...</td>\n",
       "      <td>female</td>\n",
       "      <td>38.0</td>\n",
       "      <td>1</td>\n",
       "      <td>0</td>\n",
       "      <td>PC 17599</td>\n",
       "      <td>71.2833</td>\n",
       "      <td>C85</td>\n",
       "      <td>C</td>\n",
       "    </tr>\n",
       "    <tr>\n",
       "      <th>2</th>\n",
       "      <td>3</td>\n",
       "      <td>1</td>\n",
       "      <td>3</td>\n",
       "      <td>Heikkinen, Miss. Laina</td>\n",
       "      <td>female</td>\n",
       "      <td>26.0</td>\n",
       "      <td>0</td>\n",
       "      <td>0</td>\n",
       "      <td>STON/O2. 3101282</td>\n",
       "      <td>7.9250</td>\n",
       "      <td>NaN</td>\n",
       "      <td>S</td>\n",
       "    </tr>\n",
       "    <tr>\n",
       "      <th>3</th>\n",
       "      <td>4</td>\n",
       "      <td>1</td>\n",
       "      <td>1</td>\n",
       "      <td>Futrelle, Mrs. Jacques Heath (Lily May Peel)</td>\n",
       "      <td>female</td>\n",
       "      <td>35.0</td>\n",
       "      <td>1</td>\n",
       "      <td>0</td>\n",
       "      <td>113803</td>\n",
       "      <td>53.1000</td>\n",
       "      <td>C123</td>\n",
       "      <td>S</td>\n",
       "    </tr>\n",
       "    <tr>\n",
       "      <th>4</th>\n",
       "      <td>5</td>\n",
       "      <td>0</td>\n",
       "      <td>3</td>\n",
       "      <td>Allen, Mr. William Henry</td>\n",
       "      <td>male</td>\n",
       "      <td>35.0</td>\n",
       "      <td>0</td>\n",
       "      <td>0</td>\n",
       "      <td>373450</td>\n",
       "      <td>8.0500</td>\n",
       "      <td>NaN</td>\n",
       "      <td>S</td>\n",
       "    </tr>\n",
       "  </tbody>\n",
       "</table>\n",
       "</div>"
      ],
      "text/plain": [
       "   PassengerId  Survived  Pclass  \\\n",
       "0            1         0       3   \n",
       "1            2         1       1   \n",
       "2            3         1       3   \n",
       "3            4         1       1   \n",
       "4            5         0       3   \n",
       "\n",
       "                                                Name     Sex   Age  SibSp  \\\n",
       "0                            Braund, Mr. Owen Harris    male  22.0      1   \n",
       "1  Cumings, Mrs. John Bradley (Florence Briggs Th...  female  38.0      1   \n",
       "2                             Heikkinen, Miss. Laina  female  26.0      0   \n",
       "3       Futrelle, Mrs. Jacques Heath (Lily May Peel)  female  35.0      1   \n",
       "4                           Allen, Mr. William Henry    male  35.0      0   \n",
       "\n",
       "   Parch            Ticket     Fare Cabin Embarked  \n",
       "0      0         A/5 21171   7.2500   NaN        S  \n",
       "1      0          PC 17599  71.2833   C85        C  \n",
       "2      0  STON/O2. 3101282   7.9250   NaN        S  \n",
       "3      0            113803  53.1000  C123        S  \n",
       "4      0            373450   8.0500   NaN        S  "
      ]
     },
     "execution_count": 22,
     "metadata": {},
     "output_type": "execute_result"
    }
   ],
   "source": [
    "data_set.head()       #To read the first 5 rows of our data use the function .head()"
   ]
  },
  {
   "cell_type": "code",
   "execution_count": 23,
   "id": "e2335c40",
   "metadata": {},
   "outputs": [
    {
     "data": {
      "text/plain": [
       "pandas.core.frame.DataFrame"
      ]
     },
     "execution_count": 23,
     "metadata": {},
     "output_type": "execute_result"
    }
   ],
   "source": [
    "type(data_set)       # This is a built-in function.\n",
    "                     # It is used to return the type of data stored in the objects or variables in the program. "
   ]
  },
  {
   "cell_type": "markdown",
   "id": "28999961",
   "metadata": {},
   "source": [
    "Showing the sum of the missung value for each column"
   ]
  },
  {
   "cell_type": "code",
   "execution_count": 24,
   "id": "100eb64d",
   "metadata": {},
   "outputs": [],
   "source": [
    "# This function sums the missing values for each column\n",
    "\n",
    "def missing_values(file):                                          #reading the dataset into a dataframe\n",
    "    \"\"\"This sums the number of missing values in a column\"\"\"\n",
    "    import pandas as pd                                            #Importing pandas as a part of the function to avoid repeating the step\n",
    "     \n",
    "    try:                                                           #handling possible errors\n",
    "        file = pd.read_csv(file)\n",
    "        missing_values = file.isnull()     #brings out a boolean output (true/ false)\n",
    "        return missing_values\n",
    "    except FileNotFoundError:\n",
    "        print(\"Error: The file was not found.\")  \n",
    "    except TypeError:\n",
    "        print(\"Error: Invalid Format.\")\n",
    "    except NameError as ne:\n",
    "        print(f\"Error: {file} not defined: {ne}\")\n",
    "    except ValueError:\n",
    "        print(\"Error: Invalid Value.\")\n",
    "    except pd.error.EmptyDataError:\n",
    "        print(\"Error: The file is empty.\")\n",
    "    except pd.error.ParserError:\n",
    "        print(\"Error: The file is corrupted or contains invalid data.\")\n",
    "    except Exception as e:\n",
    "        print(f\"An unexpected error was encountered: {e}\" )\n",
    "# isna() method checks whether the objects of a Dataframe or a Series contain missing or null values (NA, NaN)\n",
    "# And returns a new object with the same shape as the original but with boolean values True or False as the elements."
   ]
  },
  {
   "cell_type": "code",
   "execution_count": 25,
   "id": "2045aed3",
   "metadata": {},
   "outputs": [
    {
     "data": {
      "text/html": [
       "<div>\n",
       "<style scoped>\n",
       "    .dataframe tbody tr th:only-of-type {\n",
       "        vertical-align: middle;\n",
       "    }\n",
       "\n",
       "    .dataframe tbody tr th {\n",
       "        vertical-align: top;\n",
       "    }\n",
       "\n",
       "    .dataframe thead th {\n",
       "        text-align: right;\n",
       "    }\n",
       "</style>\n",
       "<table border=\"1\" class=\"dataframe\">\n",
       "  <thead>\n",
       "    <tr style=\"text-align: right;\">\n",
       "      <th></th>\n",
       "      <th>PassengerId</th>\n",
       "      <th>Survived</th>\n",
       "      <th>Pclass</th>\n",
       "      <th>Name</th>\n",
       "      <th>Sex</th>\n",
       "      <th>Age</th>\n",
       "      <th>SibSp</th>\n",
       "      <th>Parch</th>\n",
       "      <th>Ticket</th>\n",
       "      <th>Fare</th>\n",
       "      <th>Cabin</th>\n",
       "      <th>Embarked</th>\n",
       "    </tr>\n",
       "  </thead>\n",
       "  <tbody>\n",
       "    <tr>\n",
       "      <th>0</th>\n",
       "      <td>False</td>\n",
       "      <td>False</td>\n",
       "      <td>False</td>\n",
       "      <td>False</td>\n",
       "      <td>False</td>\n",
       "      <td>False</td>\n",
       "      <td>False</td>\n",
       "      <td>False</td>\n",
       "      <td>False</td>\n",
       "      <td>False</td>\n",
       "      <td>True</td>\n",
       "      <td>False</td>\n",
       "    </tr>\n",
       "    <tr>\n",
       "      <th>1</th>\n",
       "      <td>False</td>\n",
       "      <td>False</td>\n",
       "      <td>False</td>\n",
       "      <td>False</td>\n",
       "      <td>False</td>\n",
       "      <td>False</td>\n",
       "      <td>False</td>\n",
       "      <td>False</td>\n",
       "      <td>False</td>\n",
       "      <td>False</td>\n",
       "      <td>False</td>\n",
       "      <td>False</td>\n",
       "    </tr>\n",
       "    <tr>\n",
       "      <th>2</th>\n",
       "      <td>False</td>\n",
       "      <td>False</td>\n",
       "      <td>False</td>\n",
       "      <td>False</td>\n",
       "      <td>False</td>\n",
       "      <td>False</td>\n",
       "      <td>False</td>\n",
       "      <td>False</td>\n",
       "      <td>False</td>\n",
       "      <td>False</td>\n",
       "      <td>True</td>\n",
       "      <td>False</td>\n",
       "    </tr>\n",
       "    <tr>\n",
       "      <th>3</th>\n",
       "      <td>False</td>\n",
       "      <td>False</td>\n",
       "      <td>False</td>\n",
       "      <td>False</td>\n",
       "      <td>False</td>\n",
       "      <td>False</td>\n",
       "      <td>False</td>\n",
       "      <td>False</td>\n",
       "      <td>False</td>\n",
       "      <td>False</td>\n",
       "      <td>False</td>\n",
       "      <td>False</td>\n",
       "    </tr>\n",
       "    <tr>\n",
       "      <th>4</th>\n",
       "      <td>False</td>\n",
       "      <td>False</td>\n",
       "      <td>False</td>\n",
       "      <td>False</td>\n",
       "      <td>False</td>\n",
       "      <td>False</td>\n",
       "      <td>False</td>\n",
       "      <td>False</td>\n",
       "      <td>False</td>\n",
       "      <td>False</td>\n",
       "      <td>True</td>\n",
       "      <td>False</td>\n",
       "    </tr>\n",
       "  </tbody>\n",
       "</table>\n",
       "</div>"
      ],
      "text/plain": [
       "   PassengerId  Survived  Pclass   Name    Sex    Age  SibSp  Parch  Ticket  \\\n",
       "0        False     False   False  False  False  False  False  False   False   \n",
       "1        False     False   False  False  False  False  False  False   False   \n",
       "2        False     False   False  False  False  False  False  False   False   \n",
       "3        False     False   False  False  False  False  False  False   False   \n",
       "4        False     False   False  False  False  False  False  False   False   \n",
       "\n",
       "    Fare  Cabin  Embarked  \n",
       "0  False   True     False  \n",
       "1  False  False     False  \n",
       "2  False   True     False  \n",
       "3  False  False     False  \n",
       "4  False   True     False  "
      ]
     },
     "execution_count": 25,
     "metadata": {},
     "output_type": "execute_result"
    }
   ],
   "source": [
    "missing_values('titanic.csv').head()"
   ]
  },
  {
   "cell_type": "code",
   "execution_count": 26,
   "id": "6d0aa320",
   "metadata": {},
   "outputs": [
    {
     "name": "stdout",
     "output_type": "stream",
     "text": [
      "Error: Invalid Value.\n"
     ]
    }
   ],
   "source": [
    "missing_values('dataset_31_credit-g.arff')"
   ]
  },
  {
   "cell_type": "code",
   "execution_count": 27,
   "id": "b408e8f1",
   "metadata": {},
   "outputs": [
    {
     "name": "stdout",
     "output_type": "stream",
     "text": [
      "Error: The file was not found.\n"
     ]
    }
   ],
   "source": [
    "missing_values('empty_data.csv')"
   ]
  },
  {
   "cell_type": "code",
   "execution_count": 29,
   "id": "74576a77",
   "metadata": {},
   "outputs": [
    {
     "name": "stdout",
     "output_type": "stream",
     "text": [
      "Error: Invalid Format.\n"
     ]
    }
   ],
   "source": [
    "missing_values(data_set)"
   ]
  },
  {
   "cell_type": "code",
   "execution_count": 30,
   "id": "48859930",
   "metadata": {},
   "outputs": [],
   "source": [
    "# To count the number of NaN values in a specific column in a Pandas DataFrame, we can use the isna() and sum() functions.\n",
    "# The sum() function returns the sum of True values, which equals the number of NaN values in the column.\n",
    "\n",
    "# This shows the sum / amount of rows with missing values in thier column. A new variable name was given\n",
    "\n",
    "# This function sums the missing values for each column\n",
    "\n",
    "def missing_values(file):                                          #reading the dataset into a dtaframe\n",
    "    \"\"\"This sums the number of missing values in a column\"\"\"\n",
    "    import pandas as pd                                            #Importing pandas as a part of the function to avoid repeating the step\n",
    "     \n",
    "    try:                                                           #handling possible errors\n",
    "        file = pd.read_csv(file) \n",
    "        missing_values = file.isnull().sum()\n",
    "        return missing_values\n",
    "    except FileNotFoundError:\n",
    "        print(\"Error: The file was not found.\")\n",
    "    except TypeError:\n",
    "        print(\"Error: Invalid Format.\")\n",
    "    except NameError as ne:\n",
    "        print(f\"Error: {file} not defined: {ne}\")\n",
    "    except ValueError:\n",
    "        print(\"Error: Invalid Value.\")\n",
    "    except pd.error.EmptyDataError:\n",
    "        print(\"Error: The file is empty.\")\n",
    "    except pd.error.ParserError:\n",
    "        print(\"Error: The file is corrupted or contains invalid data.\")\n",
    "    except Exception as e:\n",
    "        print(f\"An unexpected error was encountered: {e}\" )"
   ]
  },
  {
   "cell_type": "code",
   "execution_count": 31,
   "id": "49a62ffe",
   "metadata": {},
   "outputs": [
    {
     "data": {
      "text/plain": [
       "PassengerId      0\n",
       "Survived         0\n",
       "Pclass           0\n",
       "Name             0\n",
       "Sex              0\n",
       "Age            177\n",
       "SibSp            0\n",
       "Parch            0\n",
       "Ticket           0\n",
       "Fare             0\n",
       "Cabin          687\n",
       "Embarked         2\n",
       "dtype: int64"
      ]
     },
     "execution_count": 31,
     "metadata": {},
     "output_type": "execute_result"
    }
   ],
   "source": [
    "missing_values('titanic.csv')"
   ]
  },
  {
   "cell_type": "code",
   "execution_count": 32,
   "id": "a6864a5c",
   "metadata": {},
   "outputs": [
    {
     "name": "stdout",
     "output_type": "stream",
     "text": [
      "Error: Invalid Value.\n"
     ]
    }
   ],
   "source": [
    "missing_values('dataset_31_credit-g.arff')"
   ]
  },
  {
   "cell_type": "code",
   "execution_count": 33,
   "id": "37b6870f",
   "metadata": {},
   "outputs": [
    {
     "name": "stdout",
     "output_type": "stream",
     "text": [
      "Error: The file was not found.\n"
     ]
    }
   ],
   "source": [
    "missing_values('empty_data.csv')"
   ]
  },
  {
   "cell_type": "code",
   "execution_count": 34,
   "id": "6cca42ba",
   "metadata": {},
   "outputs": [
    {
     "name": "stdout",
     "output_type": "stream",
     "text": [
      "Error: Invalid Format.\n"
     ]
    }
   ],
   "source": [
    "missing_values(data_set)"
   ]
  },
  {
   "cell_type": "markdown",
   "id": "b5cd2318",
   "metadata": {},
   "source": [
    "Checking for duplicates in each column function returns a dictionary and boolean values indicating the presence of duplicates."
   ]
  },
  {
   "cell_type": "code",
   "execution_count": 35,
   "id": "f46a8990",
   "metadata": {},
   "outputs": [],
   "source": [
    "def check_duplicates(file_name):\n",
    "    \"\"\"This function checks for duplicates in each column and \n",
    "    returns the result in a dictionary as a boolean value.\"\"\"\n",
    "\n",
    "    import pandas as pd                                               #Importing pandas as a part of the function to avoid repeating the step\n",
    "    \n",
    "    duplicate_dict = {}                                               # Initialize the dictionary to store results\n",
    "    \n",
    "    try:\n",
    "        file_name = pd.read_csv(file_name)                             # Read the CSV file into a DataFrame\n",
    "        \n",
    "        for column in file_name.columns:                               # Iterate through each column and check for duplicates\n",
    "            has_duplicates = file_name[column].duplicated().any()\n",
    "            duplicate_dict[column] = has_duplicates                    # Store the result in the dictionary\n",
    "        \n",
    "        return duplicate_dict                                          # Return the dictionary with the results\n",
    "\n",
    "    except FileNotFoundError:\n",
    "        print(\"Error: The file was not found.\")\n",
    "    except pd.errors.EmptyDataError:\n",
    "        print(\"Error: The file is empty.\")\n",
    "    except pd.errors.ParserError:\n",
    "        print(\"Error: The file is corrupted or contains invalid data.\")\n",
    "    except Exception as e:\n",
    "        print(f\"An unexpected error occurred: {e}\")"
   ]
  },
  {
   "cell_type": "code",
   "execution_count": 36,
   "id": "7fbdcb2a",
   "metadata": {},
   "outputs": [
    {
     "name": "stdout",
     "output_type": "stream",
     "text": [
      "Error: The file was not found.\n"
     ]
    }
   ],
   "source": [
    "check_duplicates('empty_data.csv')"
   ]
  },
  {
   "cell_type": "code",
   "execution_count": 37,
   "id": "669697f7",
   "metadata": {},
   "outputs": [
    {
     "name": "stdout",
     "output_type": "stream",
     "text": [
      "Error: The file is corrupted or contains invalid data.\n"
     ]
    }
   ],
   "source": [
    "check_duplicates('dataset_31_credit-g.arff')"
   ]
  },
  {
   "cell_type": "code",
   "execution_count": 38,
   "id": "4fc02ac7",
   "metadata": {},
   "outputs": [
    {
     "name": "stdout",
     "output_type": "stream",
     "text": [
      "Error: The file was not found.\n"
     ]
    }
   ],
   "source": [
    "check_duplicates('titanic.c')"
   ]
  },
  {
   "cell_type": "code",
   "execution_count": 39,
   "id": "8546563a",
   "metadata": {},
   "outputs": [
    {
     "data": {
      "text/plain": [
       "{'PassengerId': False,\n",
       " 'Survived': True,\n",
       " 'Pclass': True,\n",
       " 'Name': False,\n",
       " 'Sex': True,\n",
       " 'Age': True,\n",
       " 'SibSp': True,\n",
       " 'Parch': True,\n",
       " 'Ticket': True,\n",
       " 'Fare': True,\n",
       " 'Cabin': True,\n",
       " 'Embarked': True}"
      ]
     },
     "execution_count": 39,
     "metadata": {},
     "output_type": "execute_result"
    }
   ],
   "source": [
    "check_duplicates('titanic.csv')"
   ]
  },
  {
   "cell_type": "code",
   "execution_count": 41,
   "id": "58c5bda1",
   "metadata": {},
   "outputs": [],
   "source": [
    "def check_duplicates_sum(file_name):\n",
    "    \"\"\"This function checks for duplicates in each column and \n",
    "    returns the result in a dictionary as a boolean value.\"\"\"\n",
    "\n",
    "    import pandas as pd                                               #Importing pandas as a part of the function to avoid repeating the step\n",
    "    \n",
    "    duplicate_dict = {}                                               # Initialize the dictionary to store results\n",
    "    \n",
    "    try:\n",
    "        file_name = pd.read_csv(file_name)                             # Read the CSV file into a DataFrame\n",
    "        \n",
    "        for column in file_name.columns:                               # Iterate through each column and check for duplicates\n",
    "            has_duplicates = file_name[column].duplicated().sum()\n",
    "            duplicate_dict[column] = has_duplicates                    # Store the result in the dictionary\n",
    "        \n",
    "        return duplicate_dict                                          # Return the dictionary with the results\n",
    "\n",
    "    except FileNotFoundError:\n",
    "        print(\"Error: The file was not found.\")\n",
    "    except pd.errors.EmptyDataError:\n",
    "        print(\"Error: The file is empty.\")\n",
    "    except pd.errors.ParserError:\n",
    "        print(\"Error: The file is corrupted or contains invalid data.\")\n",
    "    except Exception as e:\n",
    "        print(f\"An unexpected error occurred: {e}\")"
   ]
  },
  {
   "cell_type": "code",
   "execution_count": 42,
   "id": "a4b9ad4b",
   "metadata": {},
   "outputs": [
    {
     "name": "stdout",
     "output_type": "stream",
     "text": [
      "Error: The file was not found.\n"
     ]
    }
   ],
   "source": [
    "check_duplicates_sum('empty_data.csv')"
   ]
  },
  {
   "cell_type": "code",
   "execution_count": 43,
   "id": "fb8a1fc6",
   "metadata": {},
   "outputs": [
    {
     "name": "stdout",
     "output_type": "stream",
     "text": [
      "Error: The file is corrupted or contains invalid data.\n"
     ]
    }
   ],
   "source": [
    "check_duplicates_sum('dataset_31_credit-g.arff')"
   ]
  },
  {
   "cell_type": "code",
   "execution_count": 44,
   "id": "6c131823",
   "metadata": {},
   "outputs": [
    {
     "name": "stdout",
     "output_type": "stream",
     "text": [
      "Error: The file was not found.\n"
     ]
    }
   ],
   "source": [
    "check_duplicates_sum('titanic.c')"
   ]
  },
  {
   "cell_type": "code",
   "execution_count": 45,
   "id": "78183416",
   "metadata": {},
   "outputs": [
    {
     "data": {
      "text/plain": [
       "{'PassengerId': 0,\n",
       " 'Survived': 889,\n",
       " 'Pclass': 888,\n",
       " 'Name': 0,\n",
       " 'Sex': 889,\n",
       " 'Age': 802,\n",
       " 'SibSp': 884,\n",
       " 'Parch': 884,\n",
       " 'Ticket': 210,\n",
       " 'Fare': 643,\n",
       " 'Cabin': 743,\n",
       " 'Embarked': 887}"
      ]
     },
     "execution_count": 45,
     "metadata": {},
     "output_type": "execute_result"
    }
   ],
   "source": [
    "check_duplicates_sum('titanic.csv')"
   ]
  },
  {
   "cell_type": "code",
   "execution_count": null,
   "id": "7c201621",
   "metadata": {},
   "outputs": [],
   "source": []
  }
 ],
 "metadata": {
  "kernelspec": {
   "display_name": "Python 3 (ipykernel)",
   "language": "python",
   "name": "python3"
  },
  "language_info": {
   "codemirror_mode": {
    "name": "ipython",
    "version": 3
   },
   "file_extension": ".py",
   "mimetype": "text/x-python",
   "name": "python",
   "nbconvert_exporter": "python",
   "pygments_lexer": "ipython3",
   "version": "3.11.5"
  }
 },
 "nbformat": 4,
 "nbformat_minor": 5
}
